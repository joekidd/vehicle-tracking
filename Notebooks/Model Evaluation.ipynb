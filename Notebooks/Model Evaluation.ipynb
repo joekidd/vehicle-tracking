{
 "cells": [
  {
   "cell_type": "code",
   "execution_count": 104,
   "metadata": {
    "collapsed": true
   },
   "outputs": [],
   "source": [
    "import sys\n",
    "import time\n",
    "sys.path.append(\"../\")"
   ]
  },
  {
   "cell_type": "code",
   "execution_count": 143,
   "metadata": {
    "collapsed": false
   },
   "outputs": [],
   "source": [
    "import pickle\n",
    "\n",
    "import numpy as np\n",
    "import pandas as pd\n",
    "from sklearn.metrics import classification_report\n",
    "from sklearn.model_selection import GridSearchCV\n",
    "from sklearn.pipeline import Pipeline, FeatureUnion\n",
    "from sklearn.svm import LinearSVC\n",
    "import matplotlib.pyplot as plt\n",
    "from sklearn.metrics import roc_auc_score\n",
    "\n",
    "from VehicleTracking import *\n",
    "from FeatureExtractionPipeline import HogExtractor, SpatialBining, ColorHistogram, ColorSpaceConverter, \\\n",
    "    OptionalBranch, OptionalPCA, AcceptEmptyMinMaxScaler\n",
    "     \n",
    "%matplotlib inline"
   ]
  },
  {
   "cell_type": "code",
   "execution_count": 109,
   "metadata": {
    "collapsed": true
   },
   "outputs": [],
   "source": [
    "with open('../data/data.p', 'rb') as f:\n",
    "    data = pickle.load(f)"
   ]
  },
  {
   "cell_type": "code",
   "execution_count": 110,
   "metadata": {
    "collapsed": true
   },
   "outputs": [],
   "source": [
    "X_val, y_val = data['val']"
   ]
  },
  {
   "cell_type": "markdown",
   "metadata": {},
   "source": [
    "# Feature extraction result"
   ]
  },
  {
   "cell_type": "code",
   "execution_count": 118,
   "metadata": {
    "collapsed": false
   },
   "outputs": [],
   "source": [
    "with open('../models/gridsearch.p', 'rb') as f:\n",
    "    clf_fe = pickle.load(f)"
   ]
  },
  {
   "cell_type": "code",
   "execution_count": 130,
   "metadata": {
    "collapsed": false
   },
   "outputs": [
    {
     "data": {
      "text/plain": [
       "0.99227292608251927"
      ]
     },
     "execution_count": 130,
     "metadata": {},
     "output_type": "execute_result"
    }
   ],
   "source": [
    "fe_acc = clf_fe.best_estimator_.score(X_val, y_val)\n",
    "fe_acc"
   ]
  },
  {
   "cell_type": "code",
   "execution_count": 131,
   "metadata": {
    "collapsed": false
   },
   "outputs": [
    {
     "data": {
      "text/plain": [
       "0.99212466088380724"
      ]
     },
     "execution_count": 131,
     "metadata": {},
     "output_type": "execute_result"
    }
   ],
   "source": [
    "pred = clf_fe.predict(X_val)\n",
    "fe_auc = roc_auc_score(y_val, pred)\n",
    "fe_auc"
   ]
  },
  {
   "cell_type": "code",
   "execution_count": 114,
   "metadata": {
    "collapsed": false
   },
   "outputs": [
    {
     "data": {
      "text/plain": [
       "{'clf__C': 1,\n",
       " 'features__chist__chist_csc__cspace': 'HLS',\n",
       " 'features__chist__chist_optional__use': True,\n",
       " 'features__chist__chist_pca__n_components': None,\n",
       " 'features__chist__color_histogram__bins': 32,\n",
       " 'features__hog__hog_csc__cspace': 'LAB',\n",
       " 'features__hog__hog_extractor__cells_per_block': 2,\n",
       " 'features__hog__hog_extractor__orient': 18,\n",
       " 'features__hog__hog_extractor__pix_per_cell': 8,\n",
       " 'features__hog__hog_pca__n_components': None,\n",
       " 'features__sb__sb_csc__cspace': 'LAB',\n",
       " 'features__sb__sb_optional__use': True,\n",
       " 'features__sb__spatial_bining__bins': 32}"
      ]
     },
     "execution_count": 114,
     "metadata": {},
     "output_type": "execute_result"
    }
   ],
   "source": [
    "clf_fe.best_params_"
   ]
  },
  {
   "cell_type": "markdown",
   "metadata": {},
   "source": [
    "# C gridsearch"
   ]
  },
  {
   "cell_type": "code",
   "execution_count": 115,
   "metadata": {
    "collapsed": false
   },
   "outputs": [],
   "source": [
    "with open('../models/gridsearch_c.p', 'rb') as f:\n",
    "    clf_c = pickle.load(f)"
   ]
  },
  {
   "cell_type": "code",
   "execution_count": 132,
   "metadata": {
    "collapsed": false
   },
   "outputs": [
    {
     "data": {
      "text/plain": [
       "0.99212713223501969"
      ]
     },
     "execution_count": 132,
     "metadata": {},
     "output_type": "execute_result"
    }
   ],
   "source": [
    "c_acc = clf_c.best_estimator_.score(X_val, y_val)\n",
    "c_acc"
   ]
  },
  {
   "cell_type": "code",
   "execution_count": 133,
   "metadata": {
    "collapsed": false
   },
   "outputs": [
    {
     "data": {
      "text/plain": [
       "0.99193734645241205"
      ]
     },
     "execution_count": 133,
     "metadata": {},
     "output_type": "execute_result"
    }
   ],
   "source": [
    "pred = clf_c.predict(X_val)\n",
    "c_auc = roc_auc_score(y_val, pred)\n",
    "c_auc"
   ]
  },
  {
   "cell_type": "code",
   "execution_count": 119,
   "metadata": {
    "collapsed": false
   },
   "outputs": [
    {
     "data": {
      "text/plain": [
       "{'clf__C': 0.01,\n",
       " 'features__chist__chist_csc__cspace': 'HLS',\n",
       " 'features__chist__chist_optional__use': True,\n",
       " 'features__chist__chist_pca__n_components': None,\n",
       " 'features__chist__color_histogram__bins': 32,\n",
       " 'features__hog__hog_csc__cspace': 'LAB',\n",
       " 'features__hog__hog_extractor__cells_per_block': 2,\n",
       " 'features__hog__hog_extractor__orient': 18,\n",
       " 'features__hog__hog_extractor__pix_per_cell': 8,\n",
       " 'features__hog__hog_pca__n_components': None,\n",
       " 'features__sb__sb_csc__cspace': 'LAB',\n",
       " 'features__sb__sb_optional__use': True,\n",
       " 'features__sb__spatial_bining__bins': 32}"
      ]
     },
     "execution_count": 119,
     "metadata": {},
     "output_type": "execute_result"
    }
   ],
   "source": [
    "clf_c.best_params_"
   ]
  },
  {
   "cell_type": "markdown",
   "metadata": {},
   "source": [
    "# Retrain an complete train set"
   ]
  },
  {
   "cell_type": "code",
   "execution_count": 121,
   "metadata": {
    "collapsed": false
   },
   "outputs": [],
   "source": [
    "with open('../models/gridsearch_all_train.p', 'rb') as f:\n",
    "    clf_all_train = pickle.load(f)"
   ]
  },
  {
   "cell_type": "code",
   "execution_count": 134,
   "metadata": {
    "collapsed": false
   },
   "outputs": [],
   "source": [
    "all_acc = clf_all_train.best_estimator_.score(X_val, y_val)"
   ]
  },
  {
   "cell_type": "code",
   "execution_count": 135,
   "metadata": {
    "collapsed": false
   },
   "outputs": [
    {
     "data": {
      "text/plain": [
       "0.99449655808135518"
      ]
     },
     "execution_count": 135,
     "metadata": {},
     "output_type": "execute_result"
    }
   ],
   "source": [
    "pred = clf_all_train.predict(X_val)\n",
    "all_auc = roc_auc_score(y_val, pred)\n",
    "all_auc"
   ]
  },
  {
   "cell_type": "markdown",
   "metadata": {},
   "source": [
    "# Retrain an complete train set + hard negative mining"
   ]
  },
  {
   "cell_type": "code",
   "execution_count": 21,
   "metadata": {
    "collapsed": false
   },
   "outputs": [],
   "source": [
    "with open('../models/gridsearch_hnm.p', 'rb') as f:\n",
    "    clf_hnm = pickle.load(f)"
   ]
  },
  {
   "cell_type": "code",
   "execution_count": 137,
   "metadata": {
    "collapsed": false
   },
   "outputs": [
    {
     "data": {
      "text/plain": [
       "0.98950284298002622"
      ]
     },
     "execution_count": 137,
     "metadata": {},
     "output_type": "execute_result"
    }
   ],
   "source": [
    "hnm_acc = clf_hnm.best_estimator_.score(X_val, y_val)\n",
    "hnm_acc"
   ]
  },
  {
   "cell_type": "code",
   "execution_count": 138,
   "metadata": {
    "collapsed": false
   },
   "outputs": [
    {
     "data": {
      "text/plain": [
       "0.98921441034319713"
      ]
     },
     "execution_count": 138,
     "metadata": {},
     "output_type": "execute_result"
    }
   ],
   "source": [
    "pred = clf_hnm.predict(X_val)\n",
    "hnm_auc = roc_auc_score(y_val, pred)\n",
    "hnm_auc"
   ]
  },
  {
   "cell_type": "markdown",
   "metadata": {},
   "source": [
    "# Adj Dataset"
   ]
  },
  {
   "cell_type": "code",
   "execution_count": 124,
   "metadata": {
    "collapsed": false
   },
   "outputs": [],
   "source": [
    "with open('../models/svm_adj.p', 'rb') as f:\n",
    "    clf_adj = pickle.load(f)"
   ]
  },
  {
   "cell_type": "code",
   "execution_count": 139,
   "metadata": {
    "collapsed": false
   },
   "outputs": [
    {
     "data": {
      "text/plain": [
       "0.99314768916751717"
      ]
     },
     "execution_count": 139,
     "metadata": {},
     "output_type": "execute_result"
    }
   ],
   "source": [
    "adj_acc = clf_adj.score(X_val, y_val)\n",
    "adj_acc"
   ]
  },
  {
   "cell_type": "code",
   "execution_count": 140,
   "metadata": {
    "collapsed": false
   },
   "outputs": [
    {
     "data": {
      "text/plain": [
       "0.99308341781431342"
      ]
     },
     "execution_count": 140,
     "metadata": {},
     "output_type": "execute_result"
    }
   ],
   "source": [
    "pred = clf_adj.predict(X_val)\n",
    "adj_auc = roc_auc_score(y_val, pred)\n",
    "adj_auc"
   ]
  },
  {
   "cell_type": "markdown",
   "metadata": {
    "collapsed": true
   },
   "source": [
    "# Opencv hog"
   ]
  },
  {
   "cell_type": "code",
   "execution_count": 127,
   "metadata": {
    "collapsed": false
   },
   "outputs": [],
   "source": [
    "with open('../models/gridsearch_opencv_all.p', 'rb') as f:\n",
    "    clf_opencv = pickle.load(f)"
   ]
  },
  {
   "cell_type": "code",
   "execution_count": 141,
   "metadata": {
    "collapsed": false
   },
   "outputs": [
    {
     "data": {
      "text/plain": [
       "0.99266701685395553"
      ]
     },
     "execution_count": 141,
     "metadata": {},
     "output_type": "execute_result"
    }
   ],
   "source": [
    "ocv_acc = clf_opencv.score(X_val, y_val)\n",
    "ocv_acc"
   ]
  },
  {
   "cell_type": "code",
   "execution_count": 142,
   "metadata": {
    "collapsed": false
   },
   "outputs": [
    {
     "data": {
      "text/plain": [
       "0.96627250157720546"
      ]
     },
     "execution_count": 142,
     "metadata": {},
     "output_type": "execute_result"
    }
   ],
   "source": [
    "pred = clf_opencv.predict(X_val)\n",
    "ocv_auc = roc_auc_score(y_val, pred)\n",
    "ocv_auc"
   ]
  },
  {
   "cell_type": "markdown",
   "metadata": {
    "collapsed": true
   },
   "source": [
    "# Result"
   ]
  },
  {
   "cell_type": "code",
   "execution_count": 144,
   "metadata": {
    "collapsed": true
   },
   "outputs": [],
   "source": [
    "metrics = np.array([[fe_acc, c_acc, all_acc, hnm_acc, adj_acc, ocv_acc],\n",
    "                    [fe_auc, c_auc, all_auc, hnm_auc, adj_auc, ocv_auc]]).T"
   ]
  },
  {
   "cell_type": "code",
   "execution_count": 157,
   "metadata": {
    "collapsed": false
   },
   "outputs": [
    {
     "data": {
      "text/html": [
       "<div>\n",
       "<table border=\"1\" class=\"dataframe\">\n",
       "  <thead>\n",
       "    <tr style=\"text-align: right;\">\n",
       "      <th></th>\n",
       "      <th>accuracy</th>\n",
       "      <th>roc_auc</th>\n",
       "    </tr>\n",
       "  </thead>\n",
       "  <tbody>\n",
       "    <tr>\n",
       "      <th>all_data</th>\n",
       "      <td>0.994606</td>\n",
       "      <td>0.994497</td>\n",
       "    </tr>\n",
       "    <tr>\n",
       "      <th>adjusted data</th>\n",
       "      <td>0.993148</td>\n",
       "      <td>0.993083</td>\n",
       "    </tr>\n",
       "    <tr>\n",
       "      <th>feature_extraction</th>\n",
       "      <td>0.992273</td>\n",
       "      <td>0.992125</td>\n",
       "    </tr>\n",
       "    <tr>\n",
       "      <th>c_optimization</th>\n",
       "      <td>0.992127</td>\n",
       "      <td>0.991937</td>\n",
       "    </tr>\n",
       "    <tr>\n",
       "      <th>hnm</th>\n",
       "      <td>0.989503</td>\n",
       "      <td>0.989214</td>\n",
       "    </tr>\n",
       "    <tr>\n",
       "      <th>opencv_hog</th>\n",
       "      <td>0.992667</td>\n",
       "      <td>0.966273</td>\n",
       "    </tr>\n",
       "  </tbody>\n",
       "</table>\n",
       "</div>"
      ],
      "text/plain": [
       "                    accuracy   roc_auc\n",
       "all_data            0.994606  0.994497\n",
       "adjusted data       0.993148  0.993083\n",
       "feature_extraction  0.992273  0.992125\n",
       "c_optimization      0.992127  0.991937\n",
       "hnm                 0.989503  0.989214\n",
       "opencv_hog          0.992667  0.966273"
      ]
     },
     "execution_count": 157,
     "metadata": {},
     "output_type": "execute_result"
    }
   ],
   "source": [
    "result = pd.DataFrame.from_records(metrics,\n",
    "                                   index=['feature_extraction', 'c_optimization',\n",
    "                                          'all_data', 'hnm', 'adjusted data', 'opencv_hog'],\n",
    "                                   columns=['accuracy', 'roc_auc'])\n",
    "\n",
    "result.sort_values(['roc_auc'], ascending=False)"
   ]
  },
  {
   "cell_type": "code",
   "execution_count": 152,
   "metadata": {
    "collapsed": false
   },
   "outputs": [
    {
     "data": {
      "text/plain": [
       "<matplotlib.axes._subplots.AxesSubplot at 0x7f76310132b0>"
      ]
     },
     "execution_count": 152,
     "metadata": {},
     "output_type": "execute_result"
    },
    {
     "data": {
      "image/png": "[encoded data removed]",
      "text/plain": [
       "<matplotlib.figure.Figure at 0x7f762eb9a908>"
      ]
     },
     "metadata": {},
     "output_type": "display_data"
    }
   ],
   "source": [
    "result.T.plot()"
   ]
  },
  {
   "cell_type": "code",
   "execution_count": null,
   "metadata": {
    "collapsed": true
   },
   "outputs": [],
   "source": []
  }
 ],
 "metadata": {
  "anaconda-cloud": {},
  "kernelspec": {
   "display_name": "Python [conda env:opencv_gpu]",
   "language": "python",
   "name": "conda-env-opencv_gpu-py"
  },
  "language_info": {
   "codemirror_mode": {
    "name": "ipython",
    "version": 3
   },
   "file_extension": ".py",
   "mimetype": "text/x-python",
   "name": "python",
   "nbconvert_exporter": "python",
   "pygments_lexer": "ipython3",
   "version": "3.5.2"
  }
 },
 "nbformat": 4,
 "nbformat_minor": 2
}
