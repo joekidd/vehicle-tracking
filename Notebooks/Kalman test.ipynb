{
 "cells": [
  {
   "cell_type": "code",
   "execution_count": 7,
   "metadata": {
    "collapsed": false
   },
   "outputs": [],
   "source": [
    "import numpy as np\n",
    "import matplotlib.pyplot as plt\n",
    "from pykalman import KalmanFilter\n",
    "from numpy import ma"
   ]
  },
  {
   "cell_type": "code",
   "execution_count": 12,
   "metadata": {
    "collapsed": true
   },
   "outputs": [],
   "source": [
    "kf = KalmanFilter(transition_matrices = [[1, 1], [0, 1]], observation_matrices = [[0.1, 0.5], [-0.3, 0.0]])\n",
    "measurements = np.asarray([[1,0], [0,0], [0,1]])  # 3 observations\n",
    "kf = kf.em(measurements, n_iter=5)\n",
    "(filtered_state_means, filtered_state_covariances) = kf.filter(measurements)\n",
    "(smoothed_state_means, smoothed_state_covariances) = kf.smooth(measurements)"
   ]
  },
  {
   "cell_type": "code",
   "execution_count": 18,
   "metadata": {
    "collapsed": false
   },
   "outputs": [],
   "source": [
    "measurements = np.asarray([[1,0], [0,0], [0,1]]) \n",
    "filtered_state_means = [[0,1]]\n",
    "filtered_state_covariances = [[0.1, 0.1]]\n",
    "for t in range(1, 3):\n",
    "    cur_filtered_state_means, cur_filtered_state_covariances = \\\n",
    "        kf.filter_update(filtered_state_means[t-1], filtered_state_covariances[t-1], measurements[t])\n",
    "        \n",
    "    filtered_state_means.append(cur_filtered_state_means)\n",
    "    filtered_state_covariances.append(cur_filtered_state_covariances)"
   ]
  },
  {
   "cell_type": "code",
   "execution_count": 19,
   "metadata": {
    "collapsed": false
   },
   "outputs": [
    {
     "data": {
      "text/plain": [
       "[[0, 1], masked_array(data = [ 0.53463357  0.69544155],\n",
       "              mask = False,\n",
       "        fill_value = 1e+20), masked_array(data = [-1.38067147  0.41902296],\n",
       "              mask = False,\n",
       "        fill_value = 1e+20)]"
      ]
     },
     "execution_count": 19,
     "metadata": {},
     "output_type": "execute_result"
    }
   ],
   "source": [
    "filtered_state_means"
   ]
  },
  {
   "cell_type": "code",
   "execution_count": null,
   "metadata": {
    "collapsed": true
   },
   "outputs": [],
   "source": []
  }
 ],
 "metadata": {
  "anaconda-cloud": {},
  "kernelspec": {
   "display_name": "Python [conda env:opencv_gpu]",
   "language": "python",
   "name": "conda-env-opencv_gpu-py"
  },
  "language_info": {
   "codemirror_mode": {
    "name": "ipython",
    "version": 3
   },
   "file_extension": ".py",
   "mimetype": "text/x-python",
   "name": "python",
   "nbconvert_exporter": "python",
   "pygments_lexer": "ipython3",
   "version": "3.5.2"
  }
 },
 "nbformat": 4,
 "nbformat_minor": 2
}
