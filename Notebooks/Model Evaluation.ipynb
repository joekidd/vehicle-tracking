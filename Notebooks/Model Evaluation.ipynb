{
 "cells": [
  {
   "cell_type": "code",
   "execution_count": 34,
   "metadata": {
    "collapsed": true
   },
   "outputs": [],
   "source": [
    "import sys\n",
    "sys.path.append(\"../\")"
   ]
  },
  {
   "cell_type": "code",
   "execution_count": 35,
   "metadata": {
    "collapsed": false
   },
   "outputs": [],
   "source": [
    "import pickle\n",
    "\n",
    "import numpy as np\n",
    "from sklearn.metrics import classification_report\n",
    "from sklearn.model_selection import GridSearchCV\n",
    "from sklearn.pipeline import Pipeline, FeatureUnion\n",
    "from sklearn.svm import LinearSVC\n",
    "import matplotlib.pyplot as plt\n",
    "from sklearn.metrics import roc_auc_score\n",
    "\n",
    "from VehicleTracking import *\n",
    "from FeatureExtractionPipeline import HogExtractor, SpatialBining, ColorHistogram, ColorSpaceConverter, \\\n",
    "    OptionalBranch, OptionalPCA, AcceptEmptyMinMaxScaler\n",
    "     \n",
    "%matplotlib inline"
   ]
  },
  {
   "cell_type": "code",
   "execution_count": 36,
   "metadata": {
    "collapsed": false
   },
   "outputs": [],
   "source": [
    "with open('../models/gridsearch.p', 'rb') as f:\n",
    "    clf = pickle.load(f)"
   ]
  },
  {
   "cell_type": "code",
   "execution_count": 4,
   "metadata": {
    "collapsed": false
   },
   "outputs": [
    {
     "data": {
      "text/plain": [
       "{'clf__C': 1,\n",
       " 'features__chist__chist_csc__cspace': 'HLS',\n",
       " 'features__chist__chist_optional__use': True,\n",
       " 'features__chist__chist_pca__n_components': None,\n",
       " 'features__chist__color_histogram__bins': 32,\n",
       " 'features__hog__hog_csc__cspace': 'LAB',\n",
       " 'features__hog__hog_extractor__cells_per_block': 2,\n",
       " 'features__hog__hog_extractor__orient': 18,\n",
       " 'features__hog__hog_extractor__pix_per_cell': 8,\n",
       " 'features__hog__hog_pca__n_components': None,\n",
       " 'features__sb__sb_csc__cspace': 'LAB',\n",
       " 'features__sb__sb_optional__use': True,\n",
       " 'features__sb__spatial_bining__bins': 32}"
      ]
     },
     "execution_count": 4,
     "metadata": {},
     "output_type": "execute_result"
    }
   ],
   "source": [
    "clf.best_params_"
   ]
  },
  {
   "cell_type": "code",
   "execution_count": 5,
   "metadata": {
    "collapsed": false
   },
   "outputs": [],
   "source": [
    "top20 = np.argsort(clf.cv_results_['mean_test_score'])[-20:]"
   ]
  },
  {
   "cell_type": "code",
   "execution_count": 6,
   "metadata": {
    "collapsed": false
   },
   "outputs": [
    {
     "data": {
      "text/plain": [
       "array([ 0.99951835,  0.99951835,  0.99951835,  0.99951835,  0.9995116 ,\n",
       "        0.9995116 ,  0.9995116 ,  0.9995116 ,  0.99950583,  0.99950583,\n",
       "        0.99950583,  0.99950583,  0.99948271,  0.99948271,  0.99948271,\n",
       "        0.99948271,  0.99948029,  0.99948029,  0.99948029,  0.99947981])"
      ]
     },
     "execution_count": 6,
     "metadata": {},
     "output_type": "execute_result"
    }
   ],
   "source": [
    "np.sort(clf.cv_results_['mean_test_score'][top20])[::-1]"
   ]
  },
  {
   "cell_type": "code",
   "execution_count": 7,
   "metadata": {
    "collapsed": false
   },
   "outputs": [
    {
     "name": "stdout",
     "output_type": "stream",
     "text": [
      "Params 0\n",
      "{'clf__C': 1, 'features__chist__chist_pca__n_components': None, 'features__hog__hog_extractor__orient': 18, 'features__sb__spatial_bining__bins': 32, 'features__hog__hog_csc__cspace': 'LAB', 'features__hog__hog_extractor__cells_per_block': 2, 'features__chist__chist_optional__use': True, 'features__chist__color_histogram__bins': 32, 'features__sb__sb_optional__use': True, 'features__hog__hog_pca__n_components': None, 'features__chist__chist_csc__cspace': 'YCrCb', 'features__sb__sb_csc__cspace': 'LAB', 'features__hog__hog_extractor__pix_per_cell': 8}\n",
      "clf__C 1\n",
      "features__chist__chist_pca__n_components None\n",
      "features__hog__hog_extractor__orient 18\n",
      "features__sb__spatial_bining__bins 32\n",
      "features__hog__hog_csc__cspace LAB\n",
      "features__hog__hog_extractor__cells_per_block 2\n",
      "features__chist__chist_optional__use True\n",
      "features__chist__color_histogram__bins 32\n",
      "features__sb__sb_optional__use True\n",
      "features__hog__hog_pca__n_components None\n",
      "features__chist__chist_csc__cspace YCrCb\n",
      "features__sb__sb_csc__cspace LAB\n",
      "features__hog__hog_extractor__pix_per_cell 8\n",
      "\n",
      "Params 1\n",
      "{'clf__C': 1, 'features__chist__chist_pca__n_components': None, 'features__hog__hog_extractor__orient': 18, 'features__sb__spatial_bining__bins': 32, 'features__hog__hog_csc__cspace': 'LAB', 'features__hog__hog_extractor__cells_per_block': 2, 'features__chist__chist_optional__use': True, 'features__chist__color_histogram__bins': 32, 'features__sb__sb_optional__use': True, 'features__hog__hog_pca__n_components': 96, 'features__chist__chist_csc__cspace': 'YCrCb', 'features__sb__sb_csc__cspace': 'LAB', 'features__hog__hog_extractor__pix_per_cell': 8}\n",
      "clf__C 1\n",
      "features__chist__chist_pca__n_components None\n",
      "features__hog__hog_extractor__orient 18\n",
      "features__sb__spatial_bining__bins 32\n",
      "features__hog__hog_csc__cspace LAB\n",
      "features__hog__hog_extractor__cells_per_block 2\n",
      "features__chist__chist_optional__use True\n",
      "features__chist__color_histogram__bins 32\n",
      "features__sb__sb_optional__use True\n",
      "features__hog__hog_pca__n_components 96\n",
      "features__chist__chist_csc__cspace YCrCb\n",
      "features__sb__sb_csc__cspace LAB\n",
      "features__hog__hog_extractor__pix_per_cell 8\n",
      "\n",
      "Params 2\n",
      "{'clf__C': 1, 'features__chist__chist_pca__n_components': 96, 'features__hog__hog_extractor__orient': 18, 'features__sb__spatial_bining__bins': 32, 'features__hog__hog_csc__cspace': 'LAB', 'features__hog__hog_extractor__cells_per_block': 2, 'features__chist__chist_optional__use': True, 'features__chist__color_histogram__bins': 32, 'features__sb__sb_optional__use': True, 'features__hog__hog_pca__n_components': 96, 'features__chist__chist_csc__cspace': 'YCrCb', 'features__sb__sb_csc__cspace': 'LAB', 'features__hog__hog_extractor__pix_per_cell': 8}\n",
      "clf__C 1\n",
      "features__chist__chist_pca__n_components 96\n",
      "features__hog__hog_extractor__orient 18\n",
      "features__sb__spatial_bining__bins 32\n",
      "features__hog__hog_csc__cspace LAB\n",
      "features__hog__hog_extractor__cells_per_block 2\n",
      "features__chist__chist_optional__use True\n",
      "features__chist__color_histogram__bins 32\n",
      "features__sb__sb_optional__use True\n",
      "features__hog__hog_pca__n_components 96\n",
      "features__chist__chist_csc__cspace YCrCb\n",
      "features__sb__sb_csc__cspace LAB\n",
      "features__hog__hog_extractor__pix_per_cell 8\n",
      "\n",
      "Params 3\n",
      "{'clf__C': 1, 'features__chist__chist_pca__n_components': 96, 'features__hog__hog_extractor__orient': 18, 'features__sb__spatial_bining__bins': 32, 'features__hog__hog_csc__cspace': 'LAB', 'features__hog__hog_extractor__cells_per_block': 2, 'features__chist__chist_optional__use': True, 'features__chist__color_histogram__bins': 32, 'features__sb__sb_optional__use': True, 'features__hog__hog_pca__n_components': None, 'features__chist__chist_csc__cspace': 'YCrCb', 'features__sb__sb_csc__cspace': 'LAB', 'features__hog__hog_extractor__pix_per_cell': 8}\n",
      "clf__C 1\n",
      "features__chist__chist_pca__n_components 96\n",
      "features__hog__hog_extractor__orient 18\n",
      "features__sb__spatial_bining__bins 32\n",
      "features__hog__hog_csc__cspace LAB\n",
      "features__hog__hog_extractor__cells_per_block 2\n",
      "features__chist__chist_optional__use True\n",
      "features__chist__color_histogram__bins 32\n",
      "features__sb__sb_optional__use True\n",
      "features__hog__hog_pca__n_components None\n",
      "features__chist__chist_csc__cspace YCrCb\n",
      "features__sb__sb_csc__cspace LAB\n",
      "features__hog__hog_extractor__pix_per_cell 8\n",
      "\n",
      "Params 4\n",
      "{'clf__C': 1, 'features__chist__chist_pca__n_components': None, 'features__hog__hog_extractor__orient': 18, 'features__sb__spatial_bining__bins': 32, 'features__hog__hog_csc__cspace': 'LAB', 'features__hog__hog_extractor__cells_per_block': 3, 'features__chist__chist_optional__use': True, 'features__chist__color_histogram__bins': 32, 'features__sb__sb_optional__use': True, 'features__hog__hog_pca__n_components': None, 'features__chist__chist_csc__cspace': 'HLS', 'features__sb__sb_csc__cspace': 'LAB', 'features__hog__hog_extractor__pix_per_cell': 8}\n",
      "clf__C 1\n",
      "features__chist__chist_pca__n_components None\n",
      "features__hog__hog_extractor__orient 18\n",
      "features__sb__spatial_bining__bins 32\n",
      "features__hog__hog_csc__cspace LAB\n",
      "features__hog__hog_extractor__cells_per_block 3\n",
      "features__chist__chist_optional__use True\n",
      "features__chist__color_histogram__bins 32\n",
      "features__sb__sb_optional__use True\n",
      "features__hog__hog_pca__n_components None\n",
      "features__chist__chist_csc__cspace HLS\n",
      "features__sb__sb_csc__cspace LAB\n",
      "features__hog__hog_extractor__pix_per_cell 8\n",
      "\n",
      "Params 5\n",
      "{'clf__C': 1, 'features__chist__chist_pca__n_components': 96, 'features__hog__hog_extractor__orient': 18, 'features__sb__spatial_bining__bins': 32, 'features__hog__hog_csc__cspace': 'LAB', 'features__hog__hog_pca__n_components': None, 'features__chist__chist_optional__use': True, 'features__chist__color_histogram__bins': 32, 'features__sb__sb_optional__use': True, 'features__hog__hog_extractor__cells_per_block': 3, 'features__chist__chist_csc__cspace': 'HLS', 'features__sb__sb_csc__cspace': 'LAB', 'features__hog__hog_extractor__pix_per_cell': 8}\n",
      "clf__C 1\n",
      "features__chist__chist_pca__n_components 96\n",
      "features__hog__hog_extractor__orient 18\n",
      "features__sb__spatial_bining__bins 32\n",
      "features__hog__hog_csc__cspace LAB\n",
      "features__hog__hog_pca__n_components None\n",
      "features__chist__chist_optional__use True\n",
      "features__chist__color_histogram__bins 32\n",
      "features__sb__sb_optional__use True\n",
      "features__hog__hog_extractor__cells_per_block 3\n",
      "features__chist__chist_csc__cspace HLS\n",
      "features__sb__sb_csc__cspace LAB\n",
      "features__hog__hog_extractor__pix_per_cell 8\n",
      "\n",
      "Params 6\n",
      "{'clf__C': 1, 'features__chist__chist_pca__n_components': 96, 'features__hog__hog_extractor__orient': 18, 'features__sb__spatial_bining__bins': 32, 'features__hog__hog_csc__cspace': 'LAB', 'features__hog__hog_extractor__cells_per_block': 3, 'features__chist__chist_optional__use': True, 'features__chist__color_histogram__bins': 32, 'features__sb__sb_optional__use': True, 'features__hog__hog_pca__n_components': 96, 'features__chist__chist_csc__cspace': 'HLS', 'features__sb__sb_csc__cspace': 'LAB', 'features__hog__hog_extractor__pix_per_cell': 8}\n",
      "clf__C 1\n",
      "features__chist__chist_pca__n_components 96\n",
      "features__hog__hog_extractor__orient 18\n",
      "features__sb__spatial_bining__bins 32\n",
      "features__hog__hog_csc__cspace LAB\n",
      "features__hog__hog_extractor__cells_per_block 3\n",
      "features__chist__chist_optional__use True\n",
      "features__chist__color_histogram__bins 32\n",
      "features__sb__sb_optional__use True\n",
      "features__hog__hog_pca__n_components 96\n",
      "features__chist__chist_csc__cspace HLS\n",
      "features__sb__sb_csc__cspace LAB\n",
      "features__hog__hog_extractor__pix_per_cell 8\n",
      "\n",
      "Params 7\n",
      "{'clf__C': 1, 'features__chist__chist_pca__n_components': None, 'features__hog__hog_extractor__orient': 18, 'features__sb__spatial_bining__bins': 32, 'features__hog__hog_csc__cspace': 'LAB', 'features__hog__hog_extractor__cells_per_block': 3, 'features__chist__chist_optional__use': True, 'features__chist__color_histogram__bins': 32, 'features__sb__sb_optional__use': True, 'features__hog__hog_pca__n_components': 96, 'features__chist__chist_csc__cspace': 'HLS', 'features__sb__sb_csc__cspace': 'LAB', 'features__hog__hog_extractor__pix_per_cell': 8}\n",
      "clf__C 1\n",
      "features__chist__chist_pca__n_components None\n",
      "features__hog__hog_extractor__orient 18\n",
      "features__sb__spatial_bining__bins 32\n",
      "features__hog__hog_csc__cspace LAB\n",
      "features__hog__hog_extractor__cells_per_block 3\n",
      "features__chist__chist_optional__use True\n",
      "features__chist__color_histogram__bins 32\n",
      "features__sb__sb_optional__use True\n",
      "features__hog__hog_pca__n_components 96\n",
      "features__chist__chist_csc__cspace HLS\n",
      "features__sb__sb_csc__cspace LAB\n",
      "features__hog__hog_extractor__pix_per_cell 8\n",
      "\n",
      "Params 8\n",
      "{'clf__C': 1, 'features__chist__chist_pca__n_components': 96, 'features__hog__hog_extractor__orient': 18, 'features__sb__spatial_bining__bins': 32, 'features__hog__hog_csc__cspace': 'LAB', 'features__hog__hog_extractor__cells_per_block': 2, 'features__chist__chist_optional__use': True, 'features__chist__color_histogram__bins': 32, 'features__sb__sb_optional__use': True, 'features__hog__hog_pca__n_components': None, 'features__chist__chist_csc__cspace': 'LAB', 'features__sb__sb_csc__cspace': 'LAB', 'features__hog__hog_extractor__pix_per_cell': 8}\n",
      "clf__C 1\n",
      "features__chist__chist_pca__n_components 96\n",
      "features__hog__hog_extractor__orient 18\n",
      "features__sb__spatial_bining__bins 32\n",
      "features__hog__hog_csc__cspace LAB\n",
      "features__hog__hog_extractor__cells_per_block 2\n",
      "features__chist__chist_optional__use True\n",
      "features__chist__color_histogram__bins 32\n",
      "features__sb__sb_optional__use True\n",
      "features__hog__hog_pca__n_components None\n",
      "features__chist__chist_csc__cspace LAB\n",
      "features__sb__sb_csc__cspace LAB\n",
      "features__hog__hog_extractor__pix_per_cell 8\n",
      "\n",
      "Params 9\n",
      "{'clf__C': 1, 'features__chist__chist_pca__n_components': None, 'features__hog__hog_extractor__orient': 18, 'features__sb__spatial_bining__bins': 32, 'features__hog__hog_csc__cspace': 'LAB', 'features__hog__hog_extractor__cells_per_block': 2, 'features__chist__chist_optional__use': True, 'features__chist__color_histogram__bins': 32, 'features__sb__sb_optional__use': True, 'features__hog__hog_pca__n_components': 96, 'features__chist__chist_csc__cspace': 'LAB', 'features__sb__sb_csc__cspace': 'LAB', 'features__hog__hog_extractor__pix_per_cell': 8}\n",
      "clf__C 1\n",
      "features__chist__chist_pca__n_components None\n",
      "features__hog__hog_extractor__orient 18\n",
      "features__sb__spatial_bining__bins 32\n",
      "features__hog__hog_csc__cspace LAB\n",
      "features__hog__hog_extractor__cells_per_block 2\n",
      "features__chist__chist_optional__use True\n",
      "features__chist__color_histogram__bins 32\n",
      "features__sb__sb_optional__use True\n",
      "features__hog__hog_pca__n_components 96\n",
      "features__chist__chist_csc__cspace LAB\n",
      "features__sb__sb_csc__cspace LAB\n",
      "features__hog__hog_extractor__pix_per_cell 8\n",
      "\n",
      "Params 10\n",
      "{'clf__C': 1, 'features__chist__chist_pca__n_components': None, 'features__hog__hog_extractor__orient': 18, 'features__sb__spatial_bining__bins': 32, 'features__hog__hog_csc__cspace': 'LAB', 'features__hog__hog_extractor__cells_per_block': 2, 'features__chist__chist_optional__use': True, 'features__chist__color_histogram__bins': 32, 'features__sb__sb_optional__use': True, 'features__hog__hog_pca__n_components': None, 'features__chist__chist_csc__cspace': 'LAB', 'features__sb__sb_csc__cspace': 'LAB', 'features__hog__hog_extractor__pix_per_cell': 8}\n",
      "clf__C 1\n",
      "features__chist__chist_pca__n_components None\n",
      "features__hog__hog_extractor__orient 18\n",
      "features__sb__spatial_bining__bins 32\n",
      "features__hog__hog_csc__cspace LAB\n",
      "features__hog__hog_extractor__cells_per_block 2\n",
      "features__chist__chist_optional__use True\n",
      "features__chist__color_histogram__bins 32\n",
      "features__sb__sb_optional__use True\n",
      "features__hog__hog_pca__n_components None\n",
      "features__chist__chist_csc__cspace LAB\n",
      "features__sb__sb_csc__cspace LAB\n",
      "features__hog__hog_extractor__pix_per_cell 8\n",
      "\n",
      "Params 11\n",
      "{'clf__C': 1, 'features__chist__chist_pca__n_components': 96, 'features__hog__hog_extractor__orient': 18, 'features__sb__spatial_bining__bins': 32, 'features__hog__hog_csc__cspace': 'LAB', 'features__hog__hog_extractor__cells_per_block': 2, 'features__chist__chist_optional__use': True, 'features__chist__color_histogram__bins': 32, 'features__sb__sb_optional__use': True, 'features__hog__hog_pca__n_components': 96, 'features__chist__chist_csc__cspace': 'LAB', 'features__sb__sb_csc__cspace': 'LAB', 'features__hog__hog_extractor__pix_per_cell': 8}\n",
      "clf__C 1\n",
      "features__chist__chist_pca__n_components 96\n",
      "features__hog__hog_extractor__orient 18\n",
      "features__sb__spatial_bining__bins 32\n",
      "features__hog__hog_csc__cspace LAB\n",
      "features__hog__hog_extractor__cells_per_block 2\n",
      "features__chist__chist_optional__use True\n",
      "features__chist__color_histogram__bins 32\n",
      "features__sb__sb_optional__use True\n",
      "features__hog__hog_pca__n_components 96\n",
      "features__chist__chist_csc__cspace LAB\n",
      "features__sb__sb_csc__cspace LAB\n",
      "features__hog__hog_extractor__pix_per_cell 8\n",
      "\n",
      "Params 12\n",
      "{'clf__C': 1, 'features__chist__chist_pca__n_components': 96, 'features__hog__hog_extractor__orient': 18, 'features__sb__spatial_bining__bins': 32, 'features__hog__hog_csc__cspace': 'LAB', 'features__hog__hog_extractor__cells_per_block': 2, 'features__chist__chist_optional__use': True, 'features__chist__color_histogram__bins': 32, 'features__sb__sb_optional__use': True, 'features__hog__hog_pca__n_components': 96, 'features__chist__chist_csc__cspace': 'RGB', 'features__sb__sb_csc__cspace': 'LAB', 'features__hog__hog_extractor__pix_per_cell': 8}\n",
      "clf__C 1\n",
      "features__chist__chist_pca__n_components 96\n",
      "features__hog__hog_extractor__orient 18\n",
      "features__sb__spatial_bining__bins 32\n",
      "features__hog__hog_csc__cspace LAB\n",
      "features__hog__hog_extractor__cells_per_block 2\n",
      "features__chist__chist_optional__use True\n",
      "features__chist__color_histogram__bins 32\n",
      "features__sb__sb_optional__use True\n",
      "features__hog__hog_pca__n_components 96\n",
      "features__chist__chist_csc__cspace RGB\n",
      "features__sb__sb_csc__cspace LAB\n",
      "features__hog__hog_extractor__pix_per_cell 8\n",
      "\n",
      "Params 13\n",
      "{'clf__C': 1, 'features__chist__chist_pca__n_components': 96, 'features__hog__hog_extractor__orient': 18, 'features__sb__spatial_bining__bins': 32, 'features__hog__hog_csc__cspace': 'LAB', 'features__hog__hog_extractor__cells_per_block': 2, 'features__chist__chist_optional__use': True, 'features__chist__color_histogram__bins': 32, 'features__sb__sb_optional__use': True, 'features__hog__hog_pca__n_components': None, 'features__chist__chist_csc__cspace': 'RGB', 'features__sb__sb_csc__cspace': 'LAB', 'features__hog__hog_extractor__pix_per_cell': 8}\n",
      "clf__C 1\n",
      "features__chist__chist_pca__n_components 96\n",
      "features__hog__hog_extractor__orient 18\n",
      "features__sb__spatial_bining__bins 32\n",
      "features__hog__hog_csc__cspace LAB\n",
      "features__hog__hog_extractor__cells_per_block 2\n",
      "features__chist__chist_optional__use True\n",
      "features__chist__color_histogram__bins 32\n",
      "features__sb__sb_optional__use True\n",
      "features__hog__hog_pca__n_components None\n",
      "features__chist__chist_csc__cspace RGB\n",
      "features__sb__sb_csc__cspace LAB\n",
      "features__hog__hog_extractor__pix_per_cell 8\n",
      "\n",
      "Params 14\n",
      "{'clf__C': 1, 'features__chist__chist_pca__n_components': None, 'features__hog__hog_extractor__orient': 18, 'features__sb__spatial_bining__bins': 32, 'features__hog__hog_csc__cspace': 'LAB', 'features__hog__hog_extractor__cells_per_block': 2, 'features__chist__chist_optional__use': True, 'features__chist__color_histogram__bins': 32, 'features__sb__sb_optional__use': True, 'features__hog__hog_pca__n_components': 96, 'features__chist__chist_csc__cspace': 'RGB', 'features__sb__sb_csc__cspace': 'LAB', 'features__hog__hog_extractor__pix_per_cell': 8}\n",
      "clf__C 1\n",
      "features__chist__chist_pca__n_components None\n",
      "features__hog__hog_extractor__orient 18\n",
      "features__sb__spatial_bining__bins 32\n",
      "features__hog__hog_csc__cspace LAB\n",
      "features__hog__hog_extractor__cells_per_block 2\n",
      "features__chist__chist_optional__use True\n",
      "features__chist__color_histogram__bins 32\n",
      "features__sb__sb_optional__use True\n",
      "features__hog__hog_pca__n_components 96\n",
      "features__chist__chist_csc__cspace RGB\n",
      "features__sb__sb_csc__cspace LAB\n",
      "features__hog__hog_extractor__pix_per_cell 8\n",
      "\n",
      "Params 15\n",
      "{'clf__C': 1, 'features__chist__chist_pca__n_components': None, 'features__hog__hog_extractor__orient': 18, 'features__sb__spatial_bining__bins': 32, 'features__hog__hog_csc__cspace': 'LAB', 'features__hog__hog_extractor__cells_per_block': 2, 'features__chist__chist_optional__use': True, 'features__chist__color_histogram__bins': 32, 'features__sb__sb_optional__use': True, 'features__hog__hog_pca__n_components': None, 'features__chist__chist_csc__cspace': 'RGB', 'features__sb__sb_csc__cspace': 'LAB', 'features__hog__hog_extractor__pix_per_cell': 8}\n",
      "clf__C 1\n",
      "features__chist__chist_pca__n_components None\n",
      "features__hog__hog_extractor__orient 18\n",
      "features__sb__spatial_bining__bins 32\n",
      "features__hog__hog_csc__cspace LAB\n",
      "features__hog__hog_extractor__cells_per_block 2\n",
      "features__chist__chist_optional__use True\n",
      "features__chist__color_histogram__bins 32\n",
      "features__sb__sb_optional__use True\n",
      "features__hog__hog_pca__n_components None\n",
      "features__chist__chist_csc__cspace RGB\n",
      "features__sb__sb_csc__cspace LAB\n",
      "features__hog__hog_extractor__pix_per_cell 8\n",
      "\n",
      "Params 16\n",
      "{'clf__C': 1, 'features__chist__chist_pca__n_components': 96, 'features__hog__hog_extractor__orient': 18, 'features__sb__spatial_bining__bins': 32, 'features__hog__hog_csc__cspace': 'LAB', 'features__hog__hog_extractor__cells_per_block': 2, 'features__chist__chist_optional__use': True, 'features__chist__color_histogram__bins': 32, 'features__sb__sb_optional__use': True, 'features__hog__hog_pca__n_components': None, 'features__chist__chist_csc__cspace': 'HLS', 'features__sb__sb_csc__cspace': 'LAB', 'features__hog__hog_extractor__pix_per_cell': 8}\n",
      "clf__C 1\n",
      "features__chist__chist_pca__n_components 96\n",
      "features__hog__hog_extractor__orient 18\n",
      "features__sb__spatial_bining__bins 32\n",
      "features__hog__hog_csc__cspace LAB\n",
      "features__hog__hog_extractor__cells_per_block 2\n",
      "features__chist__chist_optional__use True\n",
      "features__chist__color_histogram__bins 32\n",
      "features__sb__sb_optional__use True\n",
      "features__hog__hog_pca__n_components None\n",
      "features__chist__chist_csc__cspace HLS\n",
      "features__sb__sb_csc__cspace LAB\n",
      "features__hog__hog_extractor__pix_per_cell 8\n",
      "\n",
      "Params 17\n",
      "{'clf__C': 1, 'features__chist__chist_pca__n_components': None, 'features__hog__hog_extractor__orient': 18, 'features__sb__spatial_bining__bins': 32, 'features__hog__hog_csc__cspace': 'LAB', 'features__hog__hog_extractor__cells_per_block': 2, 'features__chist__chist_optional__use': True, 'features__chist__color_histogram__bins': 32, 'features__sb__sb_optional__use': True, 'features__hog__hog_pca__n_components': 96, 'features__chist__chist_csc__cspace': 'HLS', 'features__sb__sb_csc__cspace': 'LAB', 'features__hog__hog_extractor__pix_per_cell': 8}\n",
      "clf__C 1\n",
      "features__chist__chist_pca__n_components None\n",
      "features__hog__hog_extractor__orient 18\n",
      "features__sb__spatial_bining__bins 32\n",
      "features__hog__hog_csc__cspace LAB\n",
      "features__hog__hog_extractor__cells_per_block 2\n",
      "features__chist__chist_optional__use True\n",
      "features__chist__color_histogram__bins 32\n",
      "features__sb__sb_optional__use True\n",
      "features__hog__hog_pca__n_components 96\n",
      "features__chist__chist_csc__cspace HLS\n",
      "features__sb__sb_csc__cspace LAB\n",
      "features__hog__hog_extractor__pix_per_cell 8\n",
      "\n",
      "Params 18\n",
      "{'clf__C': 1, 'features__chist__chist_pca__n_components': None, 'features__hog__hog_extractor__orient': 18, 'features__sb__spatial_bining__bins': 32, 'features__hog__hog_csc__cspace': 'LAB', 'features__hog__hog_extractor__cells_per_block': 2, 'features__chist__chist_optional__use': True, 'features__chist__color_histogram__bins': 32, 'features__sb__sb_optional__use': True, 'features__hog__hog_pca__n_components': None, 'features__chist__chist_csc__cspace': 'HLS', 'features__sb__sb_csc__cspace': 'LAB', 'features__hog__hog_extractor__pix_per_cell': 8}\n",
      "clf__C 1\n",
      "features__chist__chist_pca__n_components None\n",
      "features__hog__hog_extractor__orient 18\n",
      "features__sb__spatial_bining__bins 32\n",
      "features__hog__hog_csc__cspace LAB\n",
      "features__hog__hog_extractor__cells_per_block 2\n",
      "features__chist__chist_optional__use True\n",
      "features__chist__color_histogram__bins 32\n",
      "features__sb__sb_optional__use True\n",
      "features__hog__hog_pca__n_components None\n",
      "features__chist__chist_csc__cspace HLS\n",
      "features__sb__sb_csc__cspace LAB\n",
      "features__hog__hog_extractor__pix_per_cell 8\n",
      "\n",
      "Params 19\n",
      "{'clf__C': 1, 'features__chist__chist_pca__n_components': 96, 'features__hog__hog_extractor__orient': 18, 'features__sb__spatial_bining__bins': 32, 'features__hog__hog_csc__cspace': 'LAB', 'features__hog__hog_extractor__cells_per_block': 2, 'features__chist__chist_optional__use': True, 'features__chist__color_histogram__bins': 32, 'features__sb__sb_optional__use': True, 'features__hog__hog_pca__n_components': 96, 'features__chist__chist_csc__cspace': 'HLS', 'features__sb__sb_csc__cspace': 'LAB', 'features__hog__hog_extractor__pix_per_cell': 8}\n",
      "clf__C 1\n",
      "features__chist__chist_pca__n_components 96\n",
      "features__hog__hog_extractor__orient 18\n",
      "features__sb__spatial_bining__bins 32\n",
      "features__hog__hog_csc__cspace LAB\n",
      "features__hog__hog_extractor__cells_per_block 2\n",
      "features__chist__chist_optional__use True\n",
      "features__chist__color_histogram__bins 32\n",
      "features__sb__sb_optional__use True\n",
      "features__hog__hog_pca__n_components 96\n",
      "features__chist__chist_csc__cspace HLS\n",
      "features__sb__sb_csc__cspace LAB\n",
      "features__hog__hog_extractor__pix_per_cell 8\n",
      "\n"
     ]
    }
   ],
   "source": [
    "for i, param in enumerate(np.array(clf.cv_results_['params'])[top20]):\n",
    "    print('Params', i)\n",
    "    print(param)\n",
    "    for key, val in param.items():\n",
    "        print(key, val)\n",
    "        \n",
    "    print()"
   ]
  },
  {
   "cell_type": "code",
   "execution_count": 8,
   "metadata": {
    "collapsed": false
   },
   "outputs": [
    {
     "data": {
      "text/plain": [
       "[<matplotlib.lines.Line2D at 0x7f7637e9dcc0>]"
      ]
     },
     "execution_count": 8,
     "metadata": {},
     "output_type": "execute_result"
    },
    {
     "data": {
      "image/png": "[encoded data removed]",
      "text/plain": [
       "<matplotlib.figure.Figure at 0x7f7637f26e80>"
      ]
     },
     "metadata": {},
     "output_type": "display_data"
    }
   ],
   "source": [
    "plt.figure(figsize=(11,5))\n",
    "plt.plot(clf.cv_results_['mean_test_score'])"
   ]
  },
  {
   "cell_type": "code",
   "execution_count": 9,
   "metadata": {
    "collapsed": false
   },
   "outputs": [
    {
     "data": {
      "text/plain": [
       "0.98664929961581238"
      ]
     },
     "execution_count": 9,
     "metadata": {},
     "output_type": "execute_result"
    }
   ],
   "source": [
    "clf.cv_results_['mean_test_score'].min()"
   ]
  },
  {
   "cell_type": "code",
   "execution_count": 10,
   "metadata": {
    "collapsed": false
   },
   "outputs": [
    {
     "data": {
      "text/plain": [
       "0.99951835312044135"
      ]
     },
     "execution_count": 10,
     "metadata": {},
     "output_type": "execute_result"
    }
   ],
   "source": [
    "clf.best_score_"
   ]
  },
  {
   "cell_type": "code",
   "execution_count": 11,
   "metadata": {
    "collapsed": true
   },
   "outputs": [],
   "source": [
    "with open('../data/data.p', 'rb') as f:\n",
    "    data = pickle.load(f)"
   ]
  },
  {
   "cell_type": "code",
   "execution_count": 12,
   "metadata": {
    "collapsed": true
   },
   "outputs": [],
   "source": [
    "X_val, y_val = data['val']"
   ]
  },
  {
   "cell_type": "markdown",
   "metadata": {},
   "source": [
    "# Feature extraction result"
   ]
  },
  {
   "cell_type": "code",
   "execution_count": 13,
   "metadata": {
    "collapsed": false
   },
   "outputs": [
    {
     "data": {
      "text/plain": [
       "0.99227292608251927"
      ]
     },
     "execution_count": 13,
     "metadata": {},
     "output_type": "execute_result"
    }
   ],
   "source": [
    "clf.best_estimator_.score(X_val, y_val)"
   ]
  },
  {
   "cell_type": "code",
   "execution_count": 14,
   "metadata": {
    "collapsed": false
   },
   "outputs": [
    {
     "data": {
      "text/plain": [
       "0.99212466088380724"
      ]
     },
     "execution_count": 14,
     "metadata": {},
     "output_type": "execute_result"
    }
   ],
   "source": [
    "pred = clf.predict(X_val)\n",
    "roc_auc_score(y_val, pred)"
   ]
  },
  {
   "cell_type": "markdown",
   "metadata": {},
   "source": [
    "# C gridsearch"
   ]
  },
  {
   "cell_type": "code",
   "execution_count": 15,
   "metadata": {
    "collapsed": false
   },
   "outputs": [],
   "source": [
    "with open('../models/gridsearch_c.p', 'rb') as f:\n",
    "    clf_c = pickle.load(f)"
   ]
  },
  {
   "cell_type": "code",
   "execution_count": 16,
   "metadata": {
    "collapsed": false
   },
   "outputs": [
    {
     "data": {
      "text/plain": [
       "0.99212713223501969"
      ]
     },
     "execution_count": 16,
     "metadata": {},
     "output_type": "execute_result"
    }
   ],
   "source": [
    "clf_c.best_estimator_.score(X_val, y_val)"
   ]
  },
  {
   "cell_type": "code",
   "execution_count": 17,
   "metadata": {
    "collapsed": false
   },
   "outputs": [
    {
     "data": {
      "text/plain": [
       "0.99193734645241205"
      ]
     },
     "execution_count": 17,
     "metadata": {},
     "output_type": "execute_result"
    }
   ],
   "source": [
    "pred = clf_c.predict(X_val)\n",
    "roc_auc_score(y_val, pred)"
   ]
  },
  {
   "cell_type": "markdown",
   "metadata": {},
   "source": [
    "# Retrain an complete train set"
   ]
  },
  {
   "cell_type": "code",
   "execution_count": 18,
   "metadata": {
    "collapsed": false
   },
   "outputs": [],
   "source": [
    "with open('../models/gridsearch_all_train.p', 'rb') as f:\n",
    "    clf_all_train = pickle.load(f)"
   ]
  },
  {
   "cell_type": "code",
   "execution_count": 19,
   "metadata": {
    "collapsed": false
   },
   "outputs": [
    {
     "data": {
      "text/plain": [
       "0.99460562764251348"
      ]
     },
     "execution_count": 19,
     "metadata": {},
     "output_type": "execute_result"
    }
   ],
   "source": [
    "clf_all_train.best_estimator_.score(X_val, y_val)"
   ]
  },
  {
   "cell_type": "code",
   "execution_count": 20,
   "metadata": {
    "collapsed": false
   },
   "outputs": [
    {
     "data": {
      "text/plain": [
       "0.99449655808135518"
      ]
     },
     "execution_count": 20,
     "metadata": {},
     "output_type": "execute_result"
    }
   ],
   "source": [
    "pred = clf_all_train.predict(X_val)\n",
    "roc_auc_score(y_val, pred)"
   ]
  },
  {
   "cell_type": "markdown",
   "metadata": {},
   "source": [
    "# Retrain an complete train set + hrad negative mining"
   ]
  },
  {
   "cell_type": "code",
   "execution_count": 21,
   "metadata": {
    "collapsed": false
   },
   "outputs": [],
   "source": [
    "with open('../models/gridsearch_hnm.p', 'rb') as f:\n",
    "    clf_hnm = pickle.load(f)"
   ]
  },
  {
   "cell_type": "code",
   "execution_count": 22,
   "metadata": {
    "collapsed": false
   },
   "outputs": [
    {
     "data": {
      "text/plain": [
       "0.98950284298002622"
      ]
     },
     "execution_count": 22,
     "metadata": {},
     "output_type": "execute_result"
    }
   ],
   "source": [
    "clf_hnm.best_estimator_.score(X_val, y_val)"
   ]
  },
  {
   "cell_type": "code",
   "execution_count": 23,
   "metadata": {
    "collapsed": false
   },
   "outputs": [
    {
     "data": {
      "text/plain": [
       "0.98921441034319713"
      ]
     },
     "execution_count": 23,
     "metadata": {},
     "output_type": "execute_result"
    }
   ],
   "source": [
    "pred = clf_hnm.predict(X_val)\n",
    "roc_auc_score(y_val, pred)"
   ]
  },
  {
   "cell_type": "markdown",
   "metadata": {},
   "source": [
    "# Adj Dataset"
   ]
  },
  {
   "cell_type": "code",
   "execution_count": 24,
   "metadata": {
    "collapsed": false
   },
   "outputs": [],
   "source": [
    "with open('../models/svm_pca.p', 'rb') as f:\n",
    "    clf_pca = pickle.load(f)"
   ]
  },
  {
   "cell_type": "code",
   "execution_count": 25,
   "metadata": {
    "collapsed": false
   },
   "outputs": [
    {
     "data": {
      "text/plain": [
       "0.99460562764251348"
      ]
     },
     "execution_count": 25,
     "metadata": {},
     "output_type": "execute_result"
    }
   ],
   "source": [
    "clf_pca.score(X_val, y_val)"
   ]
  },
  {
   "cell_type": "code",
   "execution_count": 26,
   "metadata": {
    "collapsed": false
   },
   "outputs": [
    {
     "data": {
      "text/plain": [
       "0.99449655808135518"
      ]
     },
     "execution_count": 26,
     "metadata": {},
     "output_type": "execute_result"
    }
   ],
   "source": [
    "pred = clf_pca.predict(X_val)\n",
    "roc_auc_score(y_val, pred)"
   ]
  },
  {
   "cell_type": "markdown",
   "metadata": {
    "collapsed": true
   },
   "source": [
    "# Opencv hog"
   ]
  },
  {
   "cell_type": "code",
   "execution_count": 41,
   "metadata": {
    "collapsed": false
   },
   "outputs": [],
   "source": [
    "with open('../models/gridsearch_opencv_all.p', 'rb') as f:\n",
    "    clf_opencv = pickle.load(f)"
   ]
  },
  {
   "cell_type": "code",
   "execution_count": 38,
   "metadata": {
    "collapsed": false
   },
   "outputs": [
    {
     "data": {
      "text/plain": [
       "0.99266701685395553"
      ]
     },
     "execution_count": 38,
     "metadata": {},
     "output_type": "execute_result"
    }
   ],
   "source": [
    "clf_opencv.score(X_val, y_val)"
   ]
  },
  {
   "cell_type": "code",
   "execution_count": 39,
   "metadata": {
    "collapsed": false
   },
   "outputs": [
    {
     "data": {
      "text/plain": [
       "0.96627250157720546"
      ]
     },
     "execution_count": 39,
     "metadata": {},
     "output_type": "execute_result"
    }
   ],
   "source": [
    "pred = clf_opencv.predict(X_val)\n",
    "roc_auc_score(y_val, pred)"
   ]
  },
  {
   "cell_type": "code",
   "execution_count": 30,
   "metadata": {
    "collapsed": false
   },
   "outputs": [
    {
     "data": {
      "text/plain": [
       "{'clf__C': 1,\n",
       " 'features__chist__chist_csc__cspace': 'LAB',\n",
       " 'features__chist__chist_optional__use': True,\n",
       " 'features__chist__chist_pca__n_components': None,\n",
       " 'features__chist__color_histogram__bins': 32,\n",
       " 'features__hog__hog_csc__cspace': 'LAB',\n",
       " 'features__hog__hog_extractor__gamma_correction': True,\n",
       " 'features__hog__hog_extractor__layout': (16, 8, 8),\n",
       " 'features__hog__hog_extractor__orient': 9,\n",
       " 'features__hog__hog_extractor__win_sigma': 1,\n",
       " 'features__hog__hog_pca__n_components': None,\n",
       " 'features__sb__sb_csc__cspace': 'LAB',\n",
       " 'features__sb__sb_optional__use': True,\n",
       " 'features__sb__spatial_bining__bins': 32}"
      ]
     },
     "execution_count": 30,
     "metadata": {},
     "output_type": "execute_result"
    }
   ],
   "source": [
    "clf_opencv.best_params_"
   ]
  },
  {
   "cell_type": "code",
   "execution_count": 44,
   "metadata": {
    "collapsed": false
   },
   "outputs": [
    {
     "data": {
      "text/plain": [
       "{'mean_fit_time': array([ 88.36760871]),\n",
       " 'mean_score_time': array([ 7.6782856]),\n",
       " 'mean_test_score': array([ 0.99200017]),\n",
       " 'mean_train_score': array([ 0.99977337]),\n",
       " 'param_clf__C': masked_array(data = [1],\n",
       "              mask = [False],\n",
       "        fill_value = ?),\n",
       " 'param_features__chist__chist_csc__cspace': masked_array(data = ['LAB'],\n",
       "              mask = [False],\n",
       "        fill_value = ?),\n",
       " 'param_features__chist__chist_optional__use': masked_array(data = [True],\n",
       "              mask = [False],\n",
       "        fill_value = ?),\n",
       " 'param_features__chist__chist_pca__n_components': masked_array(data = [None],\n",
       "              mask = [False],\n",
       "        fill_value = ?),\n",
       " 'param_features__chist__color_histogram__bins': masked_array(data = [32],\n",
       "              mask = [False],\n",
       "        fill_value = ?),\n",
       " 'param_features__hog__hog_csc__cspace': masked_array(data = ['LAB'],\n",
       "              mask = [False],\n",
       "        fill_value = ?),\n",
       " 'param_features__hog__hog_extractor__gamma_correction': masked_array(data = [True],\n",
       "              mask = [False],\n",
       "        fill_value = ?),\n",
       " 'param_features__hog__hog_extractor__layout': masked_array(data = [(16, 8, 8)],\n",
       "              mask = [False],\n",
       "        fill_value = ?),\n",
       " 'param_features__hog__hog_extractor__orient': masked_array(data = [9],\n",
       "              mask = [False],\n",
       "        fill_value = ?),\n",
       " 'param_features__hog__hog_extractor__win_sigma': masked_array(data = [1],\n",
       "              mask = [False],\n",
       "        fill_value = ?),\n",
       " 'param_features__hog__hog_pca__n_components': masked_array(data = [None],\n",
       "              mask = [False],\n",
       "        fill_value = ?),\n",
       " 'param_features__sb__sb_csc__cspace': masked_array(data = ['LAB'],\n",
       "              mask = [False],\n",
       "        fill_value = ?),\n",
       " 'param_features__sb__sb_optional__use': masked_array(data = [True],\n",
       "              mask = [False],\n",
       "        fill_value = ?),\n",
       " 'param_features__sb__spatial_bining__bins': masked_array(data = [32],\n",
       "              mask = [False],\n",
       "        fill_value = ?),\n",
       " 'params': ({'clf__C': 1,\n",
       "   'features__chist__chist_csc__cspace': 'LAB',\n",
       "   'features__chist__chist_optional__use': True,\n",
       "   'features__chist__chist_pca__n_components': None,\n",
       "   'features__chist__color_histogram__bins': 32,\n",
       "   'features__hog__hog_csc__cspace': 'LAB',\n",
       "   'features__hog__hog_extractor__gamma_correction': True,\n",
       "   'features__hog__hog_extractor__layout': (16, 8, 8),\n",
       "   'features__hog__hog_extractor__orient': 9,\n",
       "   'features__hog__hog_extractor__win_sigma': 1,\n",
       "   'features__hog__hog_pca__n_components': None,\n",
       "   'features__sb__sb_csc__cspace': 'LAB',\n",
       "   'features__sb__sb_optional__use': True,\n",
       "   'features__sb__spatial_bining__bins': 32},),\n",
       " 'rank_test_score': array([1], dtype=int32),\n",
       " 'split0_test_score': array([ 0.99218642]),\n",
       " 'split0_train_score': array([ 0.99972589]),\n",
       " 'split1_test_score': array([ 0.9918908]),\n",
       " 'split1_train_score': array([ 0.99981305]),\n",
       " 'split2_test_score': array([ 0.99192329]),\n",
       " 'split2_train_score': array([ 0.99978118]),\n",
       " 'std_fit_time': array([ 3.41701896]),\n",
       " 'std_score_time': array([ 0.06407086]),\n",
       " 'std_test_score': array([ 0.00013237]),\n",
       " 'std_train_score': array([  3.60085133e-05])}"
      ]
     },
     "execution_count": 44,
     "metadata": {},
     "output_type": "execute_result"
    }
   ],
   "source": [
    "clf_opencv.cv_results_"
   ]
  },
  {
   "cell_type": "code",
   "execution_count": 42,
   "metadata": {
    "collapsed": false
   },
   "outputs": [
    {
     "data": {
      "text/plain": [
       "[<matplotlib.lines.Line2D at 0x7f76312f52b0>]"
      ]
     },
     "execution_count": 42,
     "metadata": {},
     "output_type": "execute_result"
    },
    {
     "data": {
      "image/png": "[encoded data removed]",
      "text/plain": [
       "<matplotlib.figure.Figure at 0x7f76381ac1d0>"
      ]
     },
     "metadata": {},
     "output_type": "display_data"
    }
   ],
   "source": [
    "plt.figure(figsize=(11,5))\n",
    "plt.plot(clf_opencv.cv_results_['mean_test_score'])"
   ]
  },
  {
   "cell_type": "code",
   "execution_count": null,
   "metadata": {
    "collapsed": true
   },
   "outputs": [],
   "source": []
  }
 ],
 "metadata": {
  "anaconda-cloud": {},
  "kernelspec": {
   "display_name": "Python [conda env:opencv_gpu]",
   "language": "python",
   "name": "conda-env-opencv_gpu-py"
  },
  "language_info": {
   "codemirror_mode": {
    "name": "ipython",
    "version": 3
   },
   "file_extension": ".py",
   "mimetype": "text/x-python",
   "name": "python",
   "nbconvert_exporter": "python",
   "pygments_lexer": "ipython3",
   "version": "3.5.2"
  }
 },
 "nbformat": 4,
 "nbformat_minor": 2
}
